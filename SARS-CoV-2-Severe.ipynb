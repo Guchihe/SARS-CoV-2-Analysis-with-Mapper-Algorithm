{
 "cells": [
  {
   "cell_type": "code",
   "execution_count": 1,
   "id": "funky-angola",
   "metadata": {},
   "outputs": [],
   "source": [
    "import numpy as np\n",
    "import pandas as pd\n",
    "from gtda.mapper import (\n",
    "    CubicalCover,\n",
    "    OneDimensionalCover,\n",
    "    make_mapper_pipeline,\n",
    "    Projection,\n",
    "    plot_static_mapper_graph,\n",
    "    plot_interactive_mapper_graph,\n",
    "    MapperInteractivePlotter\n",
    ")\n",
    "from gtda.mapper.cluster import ParallelClustering\n",
    "from gtda.mapper import Eccentricity,Entropy\n",
    "\n",
    "from sklearn.preprocessing import MinMaxScaler\n",
    "from sklearn.cluster import DBSCAN, KMeans,MiniBatchKMeans\n",
    "from sklearn.decomposition import PCA\n",
    "from sklearn.cluster import AgglomerativeClustering, OPTICS"
   ]
  },
  {
   "cell_type": "code",
   "execution_count": 2,
   "id": "complimentary-chassis",
   "metadata": {},
   "outputs": [],
   "source": [
    "import openpyxl\n",
    "xlsx = pd.ExcelFile('41591_2020_897_MOESM3_ESM.xlsx')\n",
    "df = pd.read_excel(xlsx, '(B) Figure 1B')"
   ]
  },
  {
   "cell_type": "code",
   "execution_count": 3,
   "id": "uniform-disposal",
   "metadata": {},
   "outputs": [],
   "source": [
    "df = df.rename({'Patient ID': 'ID', 'Days after symptoms onset': 'Días despues de iniciados los síntomas','IgG S/CO': 'IgG (S/CO)', 'IgM S/CO': 'IgM (S/CO)','Severity': 'Severidad'}, axis=1)"
   ]
  },
  {
   "cell_type": "code",
   "execution_count": 4,
   "id": "convenient-institution",
   "metadata": {},
   "outputs": [],
   "source": [
    "df1 = df[['ID','Días despues de iniciados los síntomas', 'IgG (S/CO)', 'IgM (S/CO)', 'Severidad']]"
   ]
  },
  {
   "cell_type": "code",
   "execution_count": 5,
   "id": "infinite-imaging",
   "metadata": {},
   "outputs": [
    {
     "data": {
      "text/html": [
       "<div>\n",
       "<style scoped>\n",
       "    .dataframe tbody tr th:only-of-type {\n",
       "        vertical-align: middle;\n",
       "    }\n",
       "\n",
       "    .dataframe tbody tr th {\n",
       "        vertical-align: top;\n",
       "    }\n",
       "\n",
       "    .dataframe thead th {\n",
       "        text-align: right;\n",
       "    }\n",
       "</style>\n",
       "<table border=\"1\" class=\"dataframe\">\n",
       "  <thead>\n",
       "    <tr style=\"text-align: right;\">\n",
       "      <th></th>\n",
       "      <th>ID</th>\n",
       "      <th>Días despues de iniciados los síntomas</th>\n",
       "      <th>IgG (S/CO)</th>\n",
       "      <th>IgM (S/CO)</th>\n",
       "    </tr>\n",
       "  </thead>\n",
       "  <tbody>\n",
       "    <tr>\n",
       "      <th>1</th>\n",
       "      <td>2</td>\n",
       "      <td>11</td>\n",
       "      <td>12.978</td>\n",
       "      <td>8.157</td>\n",
       "    </tr>\n",
       "    <tr>\n",
       "      <th>2</th>\n",
       "      <td>3</td>\n",
       "      <td>19</td>\n",
       "      <td>71.973</td>\n",
       "      <td>25.865</td>\n",
       "    </tr>\n",
       "    <tr>\n",
       "      <th>4</th>\n",
       "      <td>5</td>\n",
       "      <td>14</td>\n",
       "      <td>21.945</td>\n",
       "      <td>118.031</td>\n",
       "    </tr>\n",
       "    <tr>\n",
       "      <th>11</th>\n",
       "      <td>12</td>\n",
       "      <td>16</td>\n",
       "      <td>8.720</td>\n",
       "      <td>3.012</td>\n",
       "    </tr>\n",
       "    <tr>\n",
       "      <th>14</th>\n",
       "      <td>15</td>\n",
       "      <td>17</td>\n",
       "      <td>4.258</td>\n",
       "      <td>24.242</td>\n",
       "    </tr>\n",
       "    <tr>\n",
       "      <th>19</th>\n",
       "      <td>20</td>\n",
       "      <td>14</td>\n",
       "      <td>4.095</td>\n",
       "      <td>4.123</td>\n",
       "    </tr>\n",
       "    <tr>\n",
       "      <th>32</th>\n",
       "      <td>33</td>\n",
       "      <td>10</td>\n",
       "      <td>42.440</td>\n",
       "      <td>0.813</td>\n",
       "    </tr>\n",
       "    <tr>\n",
       "      <th>33</th>\n",
       "      <td>34</td>\n",
       "      <td>16</td>\n",
       "      <td>9.253</td>\n",
       "      <td>11.941</td>\n",
       "    </tr>\n",
       "    <tr>\n",
       "      <th>47</th>\n",
       "      <td>48</td>\n",
       "      <td>10</td>\n",
       "      <td>62.749</td>\n",
       "      <td>1.120</td>\n",
       "    </tr>\n",
       "    <tr>\n",
       "      <th>49</th>\n",
       "      <td>50</td>\n",
       "      <td>6</td>\n",
       "      <td>0.249</td>\n",
       "      <td>0.430</td>\n",
       "    </tr>\n",
       "    <tr>\n",
       "      <th>69</th>\n",
       "      <td>70</td>\n",
       "      <td>9</td>\n",
       "      <td>16.736</td>\n",
       "      <td>3.303</td>\n",
       "    </tr>\n",
       "    <tr>\n",
       "      <th>80</th>\n",
       "      <td>81</td>\n",
       "      <td>9</td>\n",
       "      <td>37.276</td>\n",
       "      <td>40.364</td>\n",
       "    </tr>\n",
       "    <tr>\n",
       "      <th>92</th>\n",
       "      <td>93</td>\n",
       "      <td>9</td>\n",
       "      <td>0.933</td>\n",
       "      <td>0.482</td>\n",
       "    </tr>\n",
       "    <tr>\n",
       "      <th>100</th>\n",
       "      <td>101</td>\n",
       "      <td>12</td>\n",
       "      <td>27.979</td>\n",
       "      <td>5.048</td>\n",
       "    </tr>\n",
       "    <tr>\n",
       "      <th>103</th>\n",
       "      <td>104</td>\n",
       "      <td>17</td>\n",
       "      <td>14.238</td>\n",
       "      <td>2.216</td>\n",
       "    </tr>\n",
       "    <tr>\n",
       "      <th>104</th>\n",
       "      <td>105</td>\n",
       "      <td>10</td>\n",
       "      <td>2.156</td>\n",
       "      <td>0.178</td>\n",
       "    </tr>\n",
       "    <tr>\n",
       "      <th>108</th>\n",
       "      <td>109</td>\n",
       "      <td>17</td>\n",
       "      <td>69.233</td>\n",
       "      <td>4.604</td>\n",
       "    </tr>\n",
       "    <tr>\n",
       "      <th>132</th>\n",
       "      <td>133</td>\n",
       "      <td>12</td>\n",
       "      <td>172.010</td>\n",
       "      <td>7.396</td>\n",
       "    </tr>\n",
       "    <tr>\n",
       "      <th>146</th>\n",
       "      <td>147</td>\n",
       "      <td>8</td>\n",
       "      <td>3.091</td>\n",
       "      <td>4.008</td>\n",
       "    </tr>\n",
       "    <tr>\n",
       "      <th>147</th>\n",
       "      <td>148</td>\n",
       "      <td>21</td>\n",
       "      <td>77.231</td>\n",
       "      <td>2.870</td>\n",
       "    </tr>\n",
       "    <tr>\n",
       "      <th>148</th>\n",
       "      <td>149</td>\n",
       "      <td>9</td>\n",
       "      <td>2.171</td>\n",
       "      <td>0.279</td>\n",
       "    </tr>\n",
       "    <tr>\n",
       "      <th>149</th>\n",
       "      <td>150</td>\n",
       "      <td>15</td>\n",
       "      <td>29.264</td>\n",
       "      <td>82.047</td>\n",
       "    </tr>\n",
       "    <tr>\n",
       "      <th>152</th>\n",
       "      <td>153</td>\n",
       "      <td>12</td>\n",
       "      <td>27.511</td>\n",
       "      <td>20.625</td>\n",
       "    </tr>\n",
       "    <tr>\n",
       "      <th>153</th>\n",
       "      <td>154</td>\n",
       "      <td>19</td>\n",
       "      <td>60.968</td>\n",
       "      <td>14.376</td>\n",
       "    </tr>\n",
       "    <tr>\n",
       "      <th>155</th>\n",
       "      <td>156</td>\n",
       "      <td>10</td>\n",
       "      <td>72.264</td>\n",
       "      <td>1.787</td>\n",
       "    </tr>\n",
       "    <tr>\n",
       "      <th>160</th>\n",
       "      <td>161</td>\n",
       "      <td>8</td>\n",
       "      <td>132.867</td>\n",
       "      <td>9.066</td>\n",
       "    </tr>\n",
       "    <tr>\n",
       "      <th>161</th>\n",
       "      <td>162</td>\n",
       "      <td>16</td>\n",
       "      <td>7.014</td>\n",
       "      <td>2.501</td>\n",
       "    </tr>\n",
       "    <tr>\n",
       "      <th>169</th>\n",
       "      <td>170</td>\n",
       "      <td>27</td>\n",
       "      <td>35.553</td>\n",
       "      <td>0.695</td>\n",
       "    </tr>\n",
       "    <tr>\n",
       "      <th>175</th>\n",
       "      <td>176</td>\n",
       "      <td>26</td>\n",
       "      <td>3.846</td>\n",
       "      <td>20.721</td>\n",
       "    </tr>\n",
       "    <tr>\n",
       "      <th>185</th>\n",
       "      <td>186</td>\n",
       "      <td>16</td>\n",
       "      <td>55.371</td>\n",
       "      <td>17.215</td>\n",
       "    </tr>\n",
       "    <tr>\n",
       "      <th>187</th>\n",
       "      <td>188</td>\n",
       "      <td>12</td>\n",
       "      <td>90.705</td>\n",
       "      <td>8.982</td>\n",
       "    </tr>\n",
       "    <tr>\n",
       "      <th>193</th>\n",
       "      <td>194</td>\n",
       "      <td>7</td>\n",
       "      <td>0.364</td>\n",
       "      <td>0.742</td>\n",
       "    </tr>\n",
       "    <tr>\n",
       "      <th>194</th>\n",
       "      <td>195</td>\n",
       "      <td>12</td>\n",
       "      <td>114.250</td>\n",
       "      <td>3.311</td>\n",
       "    </tr>\n",
       "    <tr>\n",
       "      <th>230</th>\n",
       "      <td>231</td>\n",
       "      <td>10</td>\n",
       "      <td>6.405</td>\n",
       "      <td>1.012</td>\n",
       "    </tr>\n",
       "    <tr>\n",
       "      <th>237</th>\n",
       "      <td>238</td>\n",
       "      <td>19</td>\n",
       "      <td>10.630</td>\n",
       "      <td>23.847</td>\n",
       "    </tr>\n",
       "    <tr>\n",
       "      <th>239</th>\n",
       "      <td>240</td>\n",
       "      <td>23</td>\n",
       "      <td>7.389</td>\n",
       "      <td>18.280</td>\n",
       "    </tr>\n",
       "    <tr>\n",
       "      <th>241</th>\n",
       "      <td>242</td>\n",
       "      <td>19</td>\n",
       "      <td>4.860</td>\n",
       "      <td>3.188</td>\n",
       "    </tr>\n",
       "    <tr>\n",
       "      <th>254</th>\n",
       "      <td>255</td>\n",
       "      <td>23</td>\n",
       "      <td>16.735</td>\n",
       "      <td>12.472</td>\n",
       "    </tr>\n",
       "    <tr>\n",
       "      <th>255</th>\n",
       "      <td>256</td>\n",
       "      <td>12</td>\n",
       "      <td>120.502</td>\n",
       "      <td>2.247</td>\n",
       "    </tr>\n",
       "  </tbody>\n",
       "</table>\n",
       "</div>"
      ],
      "text/plain": [
       "      ID  Días despues de iniciados los síntomas  IgG (S/CO)  IgM (S/CO)\n",
       "1      2                                      11      12.978       8.157\n",
       "2      3                                      19      71.973      25.865\n",
       "4      5                                      14      21.945     118.031\n",
       "11    12                                      16       8.720       3.012\n",
       "14    15                                      17       4.258      24.242\n",
       "19    20                                      14       4.095       4.123\n",
       "32    33                                      10      42.440       0.813\n",
       "33    34                                      16       9.253      11.941\n",
       "47    48                                      10      62.749       1.120\n",
       "49    50                                       6       0.249       0.430\n",
       "69    70                                       9      16.736       3.303\n",
       "80    81                                       9      37.276      40.364\n",
       "92    93                                       9       0.933       0.482\n",
       "100  101                                      12      27.979       5.048\n",
       "103  104                                      17      14.238       2.216\n",
       "104  105                                      10       2.156       0.178\n",
       "108  109                                      17      69.233       4.604\n",
       "132  133                                      12     172.010       7.396\n",
       "146  147                                       8       3.091       4.008\n",
       "147  148                                      21      77.231       2.870\n",
       "148  149                                       9       2.171       0.279\n",
       "149  150                                      15      29.264      82.047\n",
       "152  153                                      12      27.511      20.625\n",
       "153  154                                      19      60.968      14.376\n",
       "155  156                                      10      72.264       1.787\n",
       "160  161                                       8     132.867       9.066\n",
       "161  162                                      16       7.014       2.501\n",
       "169  170                                      27      35.553       0.695\n",
       "175  176                                      26       3.846      20.721\n",
       "185  186                                      16      55.371      17.215\n",
       "187  188                                      12      90.705       8.982\n",
       "193  194                                       7       0.364       0.742\n",
       "194  195                                      12     114.250       3.311\n",
       "230  231                                      10       6.405       1.012\n",
       "237  238                                      19      10.630      23.847\n",
       "239  240                                      23       7.389      18.280\n",
       "241  242                                      19       4.860       3.188\n",
       "254  255                                      23      16.735      12.472\n",
       "255  256                                      12     120.502       2.247"
      ]
     },
     "execution_count": 5,
     "metadata": {},
     "output_type": "execute_result"
    }
   ],
   "source": [
    "df1[df1['Severidad']==1].drop(['Severidad'],axis=1)"
   ]
  },
  {
   "cell_type": "code",
   "execution_count": 6,
   "id": "working-sending",
   "metadata": {},
   "outputs": [],
   "source": [
    "is_sever = df1['Severidad'] == 1\n",
    "isnt_sever = df1['Severidad'] == 0\n",
    "data_sever = df1[is_sever].drop(['Severidad', 'ID'],axis=1)\n",
    "data_not_sever = df1[isnt_sever].drop(['Severidad', 'ID'],axis=1)"
   ]
  },
  {
   "cell_type": "code",
   "execution_count": 7,
   "id": "operating-michigan",
   "metadata": {},
   "outputs": [
    {
     "data": {
      "text/plain": [
       "(39, 223)"
      ]
     },
     "execution_count": 7,
     "metadata": {},
     "output_type": "execute_result"
    }
   ],
   "source": [
    "len(data_sever),len(data_not_sever)"
   ]
  },
  {
   "cell_type": "code",
   "execution_count": 8,
   "id": "22c70841",
   "metadata": {},
   "outputs": [
    {
     "data": {
      "text/html": [
       "<div>\n",
       "<style scoped>\n",
       "    .dataframe tbody tr th:only-of-type {\n",
       "        vertical-align: middle;\n",
       "    }\n",
       "\n",
       "    .dataframe tbody tr th {\n",
       "        vertical-align: top;\n",
       "    }\n",
       "\n",
       "    .dataframe thead th {\n",
       "        text-align: right;\n",
       "    }\n",
       "</style>\n",
       "<table border=\"1\" class=\"dataframe\">\n",
       "  <thead>\n",
       "    <tr style=\"text-align: right;\">\n",
       "      <th></th>\n",
       "      <th>Días despues de iniciados los síntomas</th>\n",
       "      <th>IgG (S/CO)</th>\n",
       "      <th>IgM (S/CO)</th>\n",
       "    </tr>\n",
       "  </thead>\n",
       "  <tbody>\n",
       "    <tr>\n",
       "      <th>1</th>\n",
       "      <td>11</td>\n",
       "      <td>12.978</td>\n",
       "      <td>8.157</td>\n",
       "    </tr>\n",
       "    <tr>\n",
       "      <th>2</th>\n",
       "      <td>19</td>\n",
       "      <td>71.973</td>\n",
       "      <td>25.865</td>\n",
       "    </tr>\n",
       "    <tr>\n",
       "      <th>4</th>\n",
       "      <td>14</td>\n",
       "      <td>21.945</td>\n",
       "      <td>118.031</td>\n",
       "    </tr>\n",
       "    <tr>\n",
       "      <th>11</th>\n",
       "      <td>16</td>\n",
       "      <td>8.720</td>\n",
       "      <td>3.012</td>\n",
       "    </tr>\n",
       "    <tr>\n",
       "      <th>14</th>\n",
       "      <td>17</td>\n",
       "      <td>4.258</td>\n",
       "      <td>24.242</td>\n",
       "    </tr>\n",
       "  </tbody>\n",
       "</table>\n",
       "</div>"
      ],
      "text/plain": [
       "    Días despues de iniciados los síntomas  IgG (S/CO)  IgM (S/CO)\n",
       "1                                       11      12.978       8.157\n",
       "2                                       19      71.973      25.865\n",
       "4                                       14      21.945     118.031\n",
       "11                                      16       8.720       3.012\n",
       "14                                      17       4.258      24.242"
      ]
     },
     "execution_count": 8,
     "metadata": {},
     "output_type": "execute_result"
    }
   ],
   "source": [
    "data_sever.head()"
   ]
  },
  {
   "cell_type": "markdown",
   "id": "judicial-original",
   "metadata": {},
   "source": [
    "# Severe"
   ]
  },
  {
   "cell_type": "markdown",
   "id": "sunrise-jewel",
   "metadata": {},
   "source": [
    "## Filter: PCA*"
   ]
  },
  {
   "cell_type": "code",
   "execution_count": 9,
   "id": "endangered-advocate",
   "metadata": {},
   "outputs": [],
   "source": [
    "filter_func =PCA(n_components=1)\n",
    "cover = CubicalCover(n_intervals=46, overlap_frac=0.8) \n",
    "#100,0.9; 210,0.95; 500,0.98 are is like 46,0.8\n",
    "\n",
    "\n",
    "clusterer = DBSCAN(eps = 0.01,metric='cosine')\n",
    "#clusterer = AgglomerativeClustering(n_clusters=3,linkage='single')\n",
    "\n",
    "\n",
    "n_jobs = 1\n",
    "\n",
    "# Initialise pipeline\n",
    "pipe = make_mapper_pipeline(\n",
    "    scaler = MinMaxScaler(),\n",
    "    filter_func=filter_func,\n",
    "    cover=cover,\n",
    "    clusterer=clusterer,\n",
    "    verbose=False,\n",
    "    n_jobs=n_jobs,\n",
    ")"
   ]
  },
  {
   "cell_type": "code",
   "execution_count": 10,
   "id": "elegant-annex",
   "metadata": {
    "scrolled": false
   },
   "outputs": [
    {
     "data": {
      "application/vnd.jupyter.widget-view+json": {
       "model_id": "5b1d54128b984eb5b55708dad22f414d",
       "version_major": 2,
       "version_minor": 0
      },
      "text/plain": [
       "VBox(children=(HBox(children=(VBox(children=(HTML(value='<b>Cover parameters</b>'), Text(value='uniform', cont…"
      ]
     },
     "metadata": {},
     "output_type": "display_data"
    }
   ],
   "source": [
    "node_scale = 20\n",
    "fig = plot_interactive_mapper_graph(pipe, \n",
    "                                    data_sever, \n",
    "                                    layout_dim=2, \n",
    "                                    node_scale=node_scale,\n",
    "                                    color_data = data_sever\n",
    "                                   ),\n",
    "fig[0]"
   ]
  },
  {
   "cell_type": "code",
   "execution_count": 15,
   "id": "stable-milan",
   "metadata": {},
   "outputs": [
    {
     "name": "stdout",
     "output_type": "stream",
     "text": [
      "\n",
      "Node ID: 15\n",
      "Node elements: [ 3  5  7 14 19 21 23 26]\n",
      "Data points:      Días despues de iniciados los síntomas  IgG (S/CO)  IgM (S/CO)\n",
      "11                                       16       8.720       3.012\n",
      "19                                       14       4.095       4.123\n",
      "33                                       16       9.253      11.941\n",
      "103                                      17      14.238       2.216\n",
      "147                                      21      77.231       2.870\n",
      "149                                      15      29.264      82.047\n",
      "153                                      19      60.968      14.376\n",
      "161                                      16       7.014       2.501\n",
      "\n"
     ]
    }
   ],
   "source": [
    "graph = pipe.fit_transform(data_sever)\n",
    "\n",
    "node_id = 15\n",
    "node_elements = graph.vs[\"node_elements\"]\n",
    "\n",
    "print(f\"\"\"\n",
    "Node ID: {node_id}\n",
    "Node elements: {node_elements[node_id]}\n",
    "Data points: {data_sever.iloc[node_elements[node_id]]}\n",
    "\"\"\")"
   ]
  },
  {
   "cell_type": "markdown",
   "id": "technological-hygiene",
   "metadata": {},
   "source": [
    "## Filter: Eccentricity**"
   ]
  },
  {
   "cell_type": "code",
   "execution_count": 9,
   "id": "indoor-attribute",
   "metadata": {},
   "outputs": [],
   "source": [
    "filter_func = Eccentricity(exponent = 1)\n",
    "\n",
    "cover = OneDimensionalCover(n_intervals=82, overlap_frac=0.95, kind = \"balanced\")#70,0.9\n",
    "\n",
    "\n",
    "clusterer = DBSCAN(eps = 0.1,metric='cosine',min_samples=3)\n",
    "\n",
    "n_jobs = 1\n",
    "\n",
    "# Initialise pipeline\n",
    "pipe = make_mapper_pipeline(\n",
    "    scaler = MinMaxScaler(),\n",
    "    filter_func=filter_func,\n",
    "    cover=cover,\n",
    "    clusterer=clusterer,\n",
    "    verbose=False,\n",
    "    n_jobs=n_jobs,\n",
    ")\n",
    "\n",
    "##############Checar \"balanced\" 64, 0.94"
   ]
  },
  {
   "cell_type": "code",
   "execution_count": 10,
   "id": "unexpected-serial",
   "metadata": {
    "scrolled": false
   },
   "outputs": [
    {
     "data": {
      "application/vnd.jupyter.widget-view+json": {
       "model_id": "bbd637ec71e946b893a060a445a8911d",
       "version_major": 2,
       "version_minor": 0
      },
      "text/plain": [
       "VBox(children=(HBox(children=(VBox(children=(HTML(value='<b>Cover parameters</b>'), Text(value='balanced', con…"
      ]
     },
     "metadata": {},
     "output_type": "display_data"
    }
   ],
   "source": [
    "node_scale = 30\n",
    "fig = plot_interactive_mapper_graph(pipe, \n",
    "                                    data_sever, \n",
    "                                    layout_dim=3, \n",
    "                                    node_scale=node_scale,\n",
    "                                    node_color_statistic=np.mean,\n",
    "                                    color_data = data_sever),\n",
    "fig[0]"
   ]
  },
  {
   "cell_type": "code",
   "execution_count": 18,
   "id": "processed-lighting",
   "metadata": {},
   "outputs": [],
   "source": [
    "graph = pipe.fit_transform(data_sever)"
   ]
  },
  {
   "cell_type": "code",
   "execution_count": 19,
   "id": "b41a7b18",
   "metadata": {},
   "outputs": [],
   "source": [
    "def Nodes(nodes, data_sever,pipe):\n",
    "    graph = pipe.fit_transform(data_sever)\n",
    "    for i in nodes:\n",
    "        node_id = i\n",
    "        node_elements = graph.vs[\"node_elements\"]\n",
    "        print(f\"\"\"\n",
    "        Node ID: {node_id}\n",
    "        Node elements: {node_elements[node_id]}\n",
    "        Data points: \\n{data_sever.iloc[node_elements[node_id]]}\n",
    "        \"\"\")"
   ]
  },
  {
   "cell_type": "code",
   "execution_count": 20,
   "id": "25479e58",
   "metadata": {},
   "outputs": [
    {
     "name": "stdout",
     "output_type": "stream",
     "text": [
      "\n",
      "        Node ID: 10\n",
      "        Node elements: [ 1 24 30]\n",
      "        Data points: \n",
      "     Días despues de iniciados los síntomas  IgG (S/CO)  IgM (S/CO)\n",
      "2                                        19      71.973      25.865\n",
      "155                                      10      72.264       1.787\n",
      "187                                      12      90.705       8.982\n",
      "        \n",
      "\n",
      "        Node ID: 11\n",
      "        Node elements: [ 1 24 30]\n",
      "        Data points: \n",
      "     Días despues de iniciados los síntomas  IgG (S/CO)  IgM (S/CO)\n",
      "2                                        19      71.973      25.865\n",
      "155                                      10      72.264       1.787\n",
      "187                                      12      90.705       8.982\n",
      "        \n",
      "\n",
      "        Node ID: 12\n",
      "        Node elements: [ 1 19 24 30]\n",
      "        Data points: \n",
      "     Días despues de iniciados los síntomas  IgG (S/CO)  IgM (S/CO)\n",
      "2                                        19      71.973      25.865\n",
      "147                                      21      77.231       2.870\n",
      "155                                      10      72.264       1.787\n",
      "187                                      12      90.705       8.982\n",
      "        \n",
      "\n",
      "        Node ID: 13\n",
      "        Node elements: [ 1 19 30]\n",
      "        Data points: \n",
      "     Días despues de iniciados los síntomas  IgG (S/CO)  IgM (S/CO)\n",
      "2                                        19      71.973      25.865\n",
      "147                                      21      77.231       2.870\n",
      "187                                      12      90.705       8.982\n",
      "        \n",
      "\n",
      "        Node ID: 14\n",
      "        Node elements: [ 1 19 30]\n",
      "        Data points: \n",
      "     Días despues de iniciados los síntomas  IgG (S/CO)  IgM (S/CO)\n",
      "2                                        19      71.973      25.865\n",
      "147                                      21      77.231       2.870\n",
      "187                                      12      90.705       8.982\n",
      "        \n"
     ]
    }
   ],
   "source": [
    "Nodes([10,11,12,13,14], data_sever, pipe)"
   ]
  },
  {
   "cell_type": "code",
   "execution_count": 13,
   "id": "ceda9678",
   "metadata": {},
   "outputs": [],
   "source": [
    "filter_func = Eccentricity(exponent = 1)\n",
    "\n",
    "cover = OneDimensionalCover(n_intervals=100, overlap_frac=0.97,kind='balanced')\n",
    "\n",
    "\n",
    "clusterer = DBSCAN(eps = 0.1,metric='cosine',min_samples=3)\n",
    "\n",
    "n_jobs = 1\n",
    "\n",
    "# Initialise pipeline\n",
    "pipe = make_mapper_pipeline(\n",
    "    scaler = MinMaxScaler(),\n",
    "    filter_func=filter_func,\n",
    "    cover=cover,\n",
    "    clusterer=clusterer,\n",
    "    contract_nodes=True,\n",
    "    verbose=False,\n",
    "    n_jobs=n_jobs,\n",
    ")\n",
    "\n",
    "\n",
    "\n",
    "\n",
    "##############Checar \"balanced\" 64, 0.94"
   ]
  },
  {
   "cell_type": "code",
   "execution_count": 14,
   "id": "0c5f54e0",
   "metadata": {
    "scrolled": false
   },
   "outputs": [
    {
     "data": {
      "application/vnd.jupyter.widget-view+json": {
       "model_id": "a288375024d04b9383100bafeed7f125",
       "version_major": 2,
       "version_minor": 0
      },
      "text/plain": [
       "VBox(children=(HBox(children=(VBox(children=(HTML(value='<b>Cover parameters</b>'), Text(value='balanced', con…"
      ]
     },
     "metadata": {},
     "output_type": "display_data"
    }
   ],
   "source": [
    "node_scale = 30\n",
    "fig = plot_interactive_mapper_graph(pipe, \n",
    "                                    data_sever, \n",
    "                                    layout_dim=2, \n",
    "                                    node_scale=node_scale,\n",
    "                                    node_color_statistic=None,\n",
    "                                    color_data = data_sever),\n",
    "fig[0]"
   ]
  },
  {
   "cell_type": "code",
   "execution_count": 15,
   "id": "6677861f",
   "metadata": {},
   "outputs": [],
   "source": [
    "graph = pipe.fit_transform(data_sever)"
   ]
  },
  {
   "cell_type": "code",
   "execution_count": 16,
   "id": "3f8f91f6",
   "metadata": {},
   "outputs": [],
   "source": [
    "def Nodes(nodes, data_sever ,pipe):\n",
    "    graph = pipe.fit_transform(data_sever)\n",
    "    for i in nodes:\n",
    "        node_id = i\n",
    "        node_elements = graph.vs[\"node_elements\"]\n",
    "        print(f\"\"\"\n",
    "        Node ID: {node_id}\n",
    "        Node elements: {node_elements[node_id]}\n",
    "        Data points: \\n{data_sever.iloc[node_elements[node_id]]}\n",
    "        \"\"\")"
   ]
  },
  {
   "cell_type": "code",
   "execution_count": 25,
   "id": "c66d21e4",
   "metadata": {
    "scrolled": true
   },
   "outputs": [
    {
     "name": "stdout",
     "output_type": "stream",
     "text": [
      "\n",
      "        Node ID: 0\n",
      "        Node elements: [ 0  3  5  6  7 13 14 22 26 29]\n",
      "        Data points: \n",
      "     Días despues de iniciados los síntomas  IgG (S/CO)  IgM (S/CO)\n",
      "1                                        11      12.978       8.157\n",
      "11                                       16       8.720       3.012\n",
      "19                                       14       4.095       4.123\n",
      "32                                       10      42.440       0.813\n",
      "33                                       16       9.253      11.941\n",
      "100                                      12      27.979       5.048\n",
      "103                                      17      14.238       2.216\n",
      "152                                      12      27.511      20.625\n",
      "161                                      16       7.014       2.501\n",
      "185                                      16      55.371      17.215\n",
      "        \n",
      "\n",
      "        Node ID: 1\n",
      "        Node elements: [ 0  3  5  6  7 14 22 26 29]\n",
      "        Data points: \n",
      "     Días despues de iniciados los síntomas  IgG (S/CO)  IgM (S/CO)\n",
      "1                                        11      12.978       8.157\n",
      "11                                       16       8.720       3.012\n",
      "19                                       14       4.095       4.123\n",
      "32                                       10      42.440       0.813\n",
      "33                                       16       9.253      11.941\n",
      "103                                      17      14.238       2.216\n",
      "152                                      12      27.511      20.625\n",
      "161                                      16       7.014       2.501\n",
      "185                                      16      55.371      17.215\n",
      "        \n",
      "\n",
      "        Node ID: 9\n",
      "        Node elements: [4]\n",
      "        Data points: \n",
      "    Días despues de iniciados los síntomas  IgG (S/CO)  IgM (S/CO)\n",
      "14                                      17       4.258      24.242\n",
      "        \n",
      "\n",
      "        Node ID: 7\n",
      "        Node elements: [ 3  5  6  7 10 14 26 29 33]\n",
      "        Data points: \n",
      "     Días despues de iniciados los síntomas  IgG (S/CO)  IgM (S/CO)\n",
      "11                                       16       8.720       3.012\n",
      "19                                       14       4.095       4.123\n",
      "32                                       10      42.440       0.813\n",
      "33                                       16       9.253      11.941\n",
      "69                                        9      16.736       3.303\n",
      "103                                      17      14.238       2.216\n",
      "161                                      16       7.014       2.501\n",
      "185                                      16      55.371      17.215\n",
      "230                                      10       6.405       1.012\n",
      "        \n",
      "\n",
      "        Node ID: 10\n",
      "        Node elements: [ 6 10 14 15 16 26 29 33]\n",
      "        Data points: \n",
      "     Días despues de iniciados los síntomas  IgG (S/CO)  IgM (S/CO)\n",
      "32                                       10      42.440       0.813\n",
      "69                                        9      16.736       3.303\n",
      "103                                      17      14.238       2.216\n",
      "104                                      10       2.156       0.178\n",
      "108                                      17      69.233       4.604\n",
      "161                                      16       7.014       2.501\n",
      "185                                      16      55.371      17.215\n",
      "230                                      10       6.405       1.012\n",
      "        \n",
      "\n",
      "        Node ID: 11\n",
      "        Node elements: [ 6  8 10 14 15 16 20 26 33]\n",
      "        Data points: \n",
      "     Días despues de iniciados los síntomas  IgG (S/CO)  IgM (S/CO)\n",
      "32                                       10      42.440       0.813\n",
      "47                                       10      62.749       1.120\n",
      "69                                        9      16.736       3.303\n",
      "103                                      17      14.238       2.216\n",
      "104                                      10       2.156       0.178\n",
      "108                                      17      69.233       4.604\n",
      "148                                       9       2.171       0.279\n",
      "161                                      16       7.014       2.501\n",
      "230                                      10       6.405       1.012\n",
      "        \n"
     ]
    }
   ],
   "source": [
    "Nodes([0,1,9,7,10,11], data_sever, pipe)"
   ]
  },
  {
   "cell_type": "code",
   "execution_count": 26,
   "id": "7de12b7d",
   "metadata": {},
   "outputs": [
    {
     "name": "stdout",
     "output_type": "stream",
     "text": [
      "\n",
      "        Node ID: 21\n",
      "        Node elements: [12 18 34 36]\n",
      "        Data points: \n",
      "     Días despues de iniciados los síntomas  IgG (S/CO)  IgM (S/CO)\n",
      "92                                        9       0.933       0.482\n",
      "146                                       8       3.091       4.008\n",
      "237                                      19      10.630      23.847\n",
      "241                                      19       4.860       3.188\n",
      "        \n"
     ]
    }
   ],
   "source": [
    "Nodes([21], data_sever, pipe)"
   ]
  },
  {
   "cell_type": "code",
   "execution_count": 27,
   "id": "0a529d78",
   "metadata": {},
   "outputs": [
    {
     "name": "stdout",
     "output_type": "stream",
     "text": [
      "\n",
      "        Node ID: 20\n",
      "        Node elements: [12 15 20]\n",
      "        Data points: \n",
      "     Días despues de iniciados los síntomas  IgG (S/CO)  IgM (S/CO)\n",
      "92                                        9       0.933       0.482\n",
      "104                                      10       2.156       0.178\n",
      "148                                       9       2.171       0.279\n",
      "        \n"
     ]
    }
   ],
   "source": [
    "Nodes([20], data_sever, pipe)"
   ]
  },
  {
   "cell_type": "markdown",
   "id": "555fbc94",
   "metadata": {},
   "source": [
    "If we want to create a refinement of covers in order to search persistence features, settle a cover wich intervals are of the same length eases the work. If $M= \\max \\lbrace f(x): x\\in X\\rbrace$, $m= \\min \\lbrace f(x): x\\in X\\rbrace$, $l$ is the common length of the intervals, $n$ is the number of intervals and $q\\in (0,1)$ is the overlapping percentage, then is easy to see that\n",
    "\n",
    "$$l(n(1-q)+1) = M-m$$\n",
    "\n",
    "Then, if we want a refinement of covers with percentages $1\\%, 4\\%, 18\\%, 30\\%, 90\\%$ and $l = 0.3(M-m)$, we can calculate the number of intervals that we need."
   ]
  },
  {
   "cell_type": "code",
   "execution_count": 28,
   "id": "042403fa",
   "metadata": {},
   "outputs": [],
   "source": [
    "percen = np.array([(3*k-7)/(3*k) for k in range(1003,1100) ])"
   ]
  },
  {
   "cell_type": "code",
   "execution_count": 29,
   "id": "046751b7",
   "metadata": {},
   "outputs": [
    {
     "data": {
      "text/plain": [
       "3804.4280745158276"
      ]
     },
     "execution_count": 29,
     "metadata": {},
     "output_type": "execute_result"
    }
   ],
   "source": [
    "fil = Eccentricity(exponent = 1).fit_transform(data_sever)\n",
    "M, m = np.max(fil),np.min(fil)\n",
    "M-m"
   ]
  },
  {
   "cell_type": "code",
   "execution_count": 30,
   "id": "a92b41c3",
   "metadata": {},
   "outputs": [
    {
     "data": {
      "text/plain": [
       "97"
      ]
     },
     "execution_count": 30,
     "metadata": {},
     "output_type": "execute_result"
    }
   ],
   "source": [
    "n = 7/3*1/(1-percen)\n",
    "len(n)"
   ]
  },
  {
   "cell_type": "code",
   "execution_count": 31,
   "id": "ef0d673e",
   "metadata": {
    "scrolled": false
   },
   "outputs": [],
   "source": [
    "val = np.concatenate((n.reshape(97,1), percen.reshape(97,1)), axis=1)"
   ]
  },
  {
   "cell_type": "code",
   "execution_count": 32,
   "id": "3aacaa63",
   "metadata": {
    "scrolled": true
   },
   "outputs": [
    {
     "data": {
      "text/plain": [
       "array([[1.00300000e+03, 9.97673646e-01],\n",
       "       [1.00400000e+03, 9.97675963e-01],\n",
       "       [1.00500000e+03, 9.97678275e-01],\n",
       "       [1.00600000e+03, 9.97680583e-01],\n",
       "       [1.00700000e+03, 9.97682886e-01],\n",
       "       [1.00800000e+03, 9.97685185e-01],\n",
       "       [1.00900000e+03, 9.97687479e-01],\n",
       "       [1.01000000e+03, 9.97689769e-01],\n",
       "       [1.01100000e+03, 9.97692054e-01],\n",
       "       [1.01200000e+03, 9.97694335e-01],\n",
       "       [1.01300000e+03, 9.97696611e-01],\n",
       "       [1.01400000e+03, 9.97698882e-01],\n",
       "       [1.01500000e+03, 9.97701149e-01],\n",
       "       [1.01600000e+03, 9.97703412e-01],\n",
       "       [1.01700000e+03, 9.97705670e-01],\n",
       "       [1.01800000e+03, 9.97707924e-01],\n",
       "       [1.01900000e+03, 9.97710173e-01],\n",
       "       [1.02000000e+03, 9.97712418e-01],\n",
       "       [1.02100000e+03, 9.97714659e-01],\n",
       "       [1.02200000e+03, 9.97716895e-01],\n",
       "       [1.02300000e+03, 9.97719127e-01],\n",
       "       [1.02400000e+03, 9.97721354e-01],\n",
       "       [1.02500000e+03, 9.97723577e-01],\n",
       "       [1.02600000e+03, 9.97725796e-01],\n",
       "       [1.02700000e+03, 9.97728010e-01],\n",
       "       [1.02800000e+03, 9.97730220e-01],\n",
       "       [1.02900000e+03, 9.97732426e-01],\n",
       "       [1.03000000e+03, 9.97734628e-01],\n",
       "       [1.03100000e+03, 9.97736825e-01],\n",
       "       [1.03200000e+03, 9.97739018e-01],\n",
       "       [1.03300000e+03, 9.97741207e-01],\n",
       "       [1.03400000e+03, 9.97743391e-01],\n",
       "       [1.03500000e+03, 9.97745572e-01],\n",
       "       [1.03600000e+03, 9.97747748e-01],\n",
       "       [1.03700000e+03, 9.97749920e-01],\n",
       "       [1.03800000e+03, 9.97752087e-01],\n",
       "       [1.03900000e+03, 9.97754251e-01],\n",
       "       [1.04000000e+03, 9.97756410e-01],\n",
       "       [1.04100000e+03, 9.97758565e-01],\n",
       "       [1.04200000e+03, 9.97760717e-01],\n",
       "       [1.04300000e+03, 9.97762864e-01],\n",
       "       [1.04400000e+03, 9.97765006e-01],\n",
       "       [1.04500000e+03, 9.97767145e-01],\n",
       "       [1.04600000e+03, 9.97769280e-01],\n",
       "       [1.04700000e+03, 9.97771410e-01],\n",
       "       [1.04800000e+03, 9.97773537e-01],\n",
       "       [1.04900000e+03, 9.97775659e-01],\n",
       "       [1.05000000e+03, 9.97777778e-01],\n",
       "       [1.05100000e+03, 9.97779892e-01],\n",
       "       [1.05200000e+03, 9.97782003e-01],\n",
       "       [1.05300000e+03, 9.97784109e-01],\n",
       "       [1.05400000e+03, 9.97786211e-01],\n",
       "       [1.05500000e+03, 9.97788310e-01],\n",
       "       [1.05600000e+03, 9.97790404e-01],\n",
       "       [1.05700000e+03, 9.97792494e-01],\n",
       "       [1.05800000e+03, 9.97794581e-01],\n",
       "       [1.05900000e+03, 9.97796664e-01],\n",
       "       [1.06000000e+03, 9.97798742e-01],\n",
       "       [1.06100000e+03, 9.97800817e-01],\n",
       "       [1.06200000e+03, 9.97802888e-01],\n",
       "       [1.06300000e+03, 9.97804955e-01],\n",
       "       [1.06400000e+03, 9.97807018e-01],\n",
       "       [1.06500000e+03, 9.97809077e-01],\n",
       "       [1.06600000e+03, 9.97811132e-01],\n",
       "       [1.06700000e+03, 9.97813183e-01],\n",
       "       [1.06800000e+03, 9.97815231e-01],\n",
       "       [1.06900000e+03, 9.97817275e-01],\n",
       "       [1.07000000e+03, 9.97819315e-01],\n",
       "       [1.07100000e+03, 9.97821351e-01],\n",
       "       [1.07200000e+03, 9.97823383e-01],\n",
       "       [1.07300000e+03, 9.97825412e-01],\n",
       "       [1.07400000e+03, 9.97827436e-01],\n",
       "       [1.07500000e+03, 9.97829457e-01],\n",
       "       [1.07600000e+03, 9.97831475e-01],\n",
       "       [1.07700000e+03, 9.97833488e-01],\n",
       "       [1.07800000e+03, 9.97835498e-01],\n",
       "       [1.07900000e+03, 9.97837504e-01],\n",
       "       [1.08000000e+03, 9.97839506e-01],\n",
       "       [1.08100000e+03, 9.97841505e-01],\n",
       "       [1.08200000e+03, 9.97843500e-01],\n",
       "       [1.08300000e+03, 9.97845491e-01],\n",
       "       [1.08400000e+03, 9.97847478e-01],\n",
       "       [1.08500000e+03, 9.97849462e-01],\n",
       "       [1.08600000e+03, 9.97851443e-01],\n",
       "       [1.08700000e+03, 9.97853419e-01],\n",
       "       [1.08800000e+03, 9.97855392e-01],\n",
       "       [1.08900000e+03, 9.97857361e-01],\n",
       "       [1.09000000e+03, 9.97859327e-01],\n",
       "       [1.09100000e+03, 9.97861289e-01],\n",
       "       [1.09200000e+03, 9.97863248e-01],\n",
       "       [1.09300000e+03, 9.97865203e-01],\n",
       "       [1.09400000e+03, 9.97867154e-01],\n",
       "       [1.09500000e+03, 9.97869102e-01],\n",
       "       [1.09600000e+03, 9.97871046e-01],\n",
       "       [1.09700000e+03, 9.97872987e-01],\n",
       "       [1.09800000e+03, 9.97874924e-01],\n",
       "       [1.09900000e+03, 9.97876858e-01]])"
      ]
     },
     "execution_count": 32,
     "metadata": {},
     "output_type": "execute_result"
    }
   ],
   "source": [
    "val"
   ]
  },
  {
   "cell_type": "code",
   "execution_count": 17,
   "id": "4cf32ba7",
   "metadata": {},
   "outputs": [],
   "source": [
    "filter_func = Eccentricity(exponent = 1)\n",
    "\n",
    "cover = OneDimensionalCover(n_intervals=82, overlap_frac=0.85)#70,0.9\n",
    "\n",
    "\n",
    "clusterer = DBSCAN(eps = 0.1,metric='cosine',min_samples=3)\n",
    "\n",
    "n_jobs = 1\n",
    "\n",
    "# Initialise pipeline\n",
    "pipe = make_mapper_pipeline(\n",
    "    scaler = MinMaxScaler(),\n",
    "    filter_func=filter_func,\n",
    "    cover=cover,\n",
    "    clusterer=clusterer,\n",
    "    verbose=False,\n",
    "    n_jobs=n_jobs,\n",
    ")\n",
    "\n",
    "##############Checar \"balanced\" 64, 0.94"
   ]
  },
  {
   "cell_type": "code",
   "execution_count": 18,
   "id": "c914c2d1",
   "metadata": {
    "scrolled": false
   },
   "outputs": [
    {
     "data": {
      "application/vnd.jupyter.widget-view+json": {
       "model_id": "7271ec8688ed4e7cabe3f4ee7d25b793",
       "version_major": 2,
       "version_minor": 0
      },
      "text/plain": [
       "VBox(children=(HBox(children=(VBox(children=(HTML(value='<b>Cover parameters</b>'), Text(value='uniform', cont…"
      ]
     },
     "metadata": {},
     "output_type": "display_data"
    }
   ],
   "source": [
    "fig = plot_interactive_mapper_graph(pipe, \n",
    "                                    data_sever, \n",
    "                                    layout_dim=2, \n",
    "                                    node_scale=30,\n",
    "                                    node_color_statistic=np.mean,\n",
    "                                    color_data = data_sever),\n",
    "fig[0]"
   ]
  },
  {
   "cell_type": "code",
   "execution_count": 35,
   "id": "3a7417bf",
   "metadata": {},
   "outputs": [],
   "source": [
    "graph = pipe.fit_transform(data_sever)"
   ]
  },
  {
   "cell_type": "code",
   "execution_count": 36,
   "id": "d435e445",
   "metadata": {},
   "outputs": [],
   "source": [
    "def Nodes(nodes, data_sever,pipe):\n",
    "    graph = pipe.fit_transform(data_sever)\n",
    "    for i in nodes:\n",
    "        node_id = i\n",
    "        node_elements = graph.vs[\"node_elements\"]\n",
    "        print(f\"\"\"\n",
    "        Node ID: {node_id}\n",
    "        Node elements: {node_elements[node_id]}\n",
    "        Data points: \\n{data_sever.iloc[node_elements[node_id]]}\n",
    "        \"\"\")"
   ]
  },
  {
   "cell_type": "code",
   "execution_count": 37,
   "id": "6d44f0b6",
   "metadata": {},
   "outputs": [
    {
     "name": "stdout",
     "output_type": "stream",
     "text": [
      "\n",
      "        Node ID: 27\n",
      "        Node elements: [ 9 19 32 35 37]\n",
      "        Data points: \n",
      "     Días despues de iniciados los síntomas  IgG (S/CO)  IgM (S/CO)\n",
      "49                                        6       0.249       0.430\n",
      "147                                      21      77.231       2.870\n",
      "194                                      12     114.250       3.311\n",
      "239                                      23       7.389      18.280\n",
      "254                                      23      16.735      12.472\n",
      "        \n"
     ]
    }
   ],
   "source": [
    "Nodes([27], data_sever, pipe)"
   ]
  },
  {
   "cell_type": "code",
   "execution_count": 38,
   "id": "73936232",
   "metadata": {},
   "outputs": [],
   "source": [
    "percen = np.array([(k)/(k+3) for k in range(3,100) ])"
   ]
  },
  {
   "cell_type": "code",
   "execution_count": 39,
   "id": "c6804849",
   "metadata": {},
   "outputs": [
    {
     "data": {
      "text/plain": [
       "3804.4280745158276"
      ]
     },
     "execution_count": 39,
     "metadata": {},
     "output_type": "execute_result"
    }
   ],
   "source": [
    "fil = Eccentricity(exponent = 1).fit_transform(data_sever)\n",
    "M, m = np.max(fil),np.min(fil)\n",
    "M-m"
   ]
  },
  {
   "cell_type": "code",
   "execution_count": 40,
   "id": "100ef29d",
   "metadata": {},
   "outputs": [
    {
     "data": {
      "text/plain": [
       "97"
      ]
     },
     "execution_count": 40,
     "metadata": {},
     "output_type": "execute_result"
    }
   ],
   "source": [
    "n = (1/0.1 -1)*1/(1-percen)\n",
    "len(n)"
   ]
  },
  {
   "cell_type": "code",
   "execution_count": 41,
   "id": "175379c6",
   "metadata": {
    "scrolled": false
   },
   "outputs": [],
   "source": [
    "val = np.concatenate((n.reshape(97,1), percen.reshape(97,1)), axis=1)"
   ]
  },
  {
   "cell_type": "code",
   "execution_count": 42,
   "id": "bbf6cc5d",
   "metadata": {
    "scrolled": true
   },
   "outputs": [
    {
     "data": {
      "text/plain": [
       "array([[ 18.        ,   0.5       ],\n",
       "       [ 21.        ,   0.57142857],\n",
       "       [ 24.        ,   0.625     ],\n",
       "       [ 27.        ,   0.66666667],\n",
       "       [ 30.        ,   0.7       ],\n",
       "       [ 33.        ,   0.72727273],\n",
       "       [ 36.        ,   0.75      ],\n",
       "       [ 39.        ,   0.76923077],\n",
       "       [ 42.        ,   0.78571429],\n",
       "       [ 45.        ,   0.8       ],\n",
       "       [ 48.        ,   0.8125    ],\n",
       "       [ 51.        ,   0.82352941],\n",
       "       [ 54.        ,   0.83333333],\n",
       "       [ 57.        ,   0.84210526],\n",
       "       [ 60.        ,   0.85      ],\n",
       "       [ 63.        ,   0.85714286],\n",
       "       [ 66.        ,   0.86363636],\n",
       "       [ 69.        ,   0.86956522],\n",
       "       [ 72.        ,   0.875     ],\n",
       "       [ 75.        ,   0.88      ],\n",
       "       [ 78.        ,   0.88461538],\n",
       "       [ 81.        ,   0.88888889],\n",
       "       [ 84.        ,   0.89285714],\n",
       "       [ 87.        ,   0.89655172],\n",
       "       [ 90.        ,   0.9       ],\n",
       "       [ 93.        ,   0.90322581],\n",
       "       [ 96.        ,   0.90625   ],\n",
       "       [ 99.        ,   0.90909091],\n",
       "       [102.        ,   0.91176471],\n",
       "       [105.        ,   0.91428571],\n",
       "       [108.        ,   0.91666667],\n",
       "       [111.        ,   0.91891892],\n",
       "       [114.        ,   0.92105263],\n",
       "       [117.        ,   0.92307692],\n",
       "       [120.        ,   0.925     ],\n",
       "       [123.        ,   0.92682927],\n",
       "       [126.        ,   0.92857143],\n",
       "       [129.        ,   0.93023256],\n",
       "       [132.        ,   0.93181818],\n",
       "       [135.        ,   0.93333333],\n",
       "       [138.        ,   0.93478261],\n",
       "       [141.        ,   0.93617021],\n",
       "       [144.        ,   0.9375    ],\n",
       "       [147.        ,   0.93877551],\n",
       "       [150.        ,   0.94      ],\n",
       "       [153.        ,   0.94117647],\n",
       "       [156.        ,   0.94230769],\n",
       "       [159.        ,   0.94339623],\n",
       "       [162.        ,   0.94444444],\n",
       "       [165.        ,   0.94545455],\n",
       "       [168.        ,   0.94642857],\n",
       "       [171.        ,   0.94736842],\n",
       "       [174.        ,   0.94827586],\n",
       "       [177.        ,   0.94915254],\n",
       "       [180.        ,   0.95      ],\n",
       "       [183.        ,   0.95081967],\n",
       "       [186.        ,   0.9516129 ],\n",
       "       [189.        ,   0.95238095],\n",
       "       [192.        ,   0.953125  ],\n",
       "       [195.        ,   0.95384615],\n",
       "       [198.        ,   0.95454545],\n",
       "       [201.        ,   0.95522388],\n",
       "       [204.        ,   0.95588235],\n",
       "       [207.        ,   0.95652174],\n",
       "       [210.        ,   0.95714286],\n",
       "       [213.        ,   0.95774648],\n",
       "       [216.        ,   0.95833333],\n",
       "       [219.        ,   0.95890411],\n",
       "       [222.        ,   0.95945946],\n",
       "       [225.        ,   0.96      ],\n",
       "       [228.        ,   0.96052632],\n",
       "       [231.        ,   0.96103896],\n",
       "       [234.        ,   0.96153846],\n",
       "       [237.        ,   0.96202532],\n",
       "       [240.        ,   0.9625    ],\n",
       "       [243.        ,   0.96296296],\n",
       "       [246.        ,   0.96341463],\n",
       "       [249.        ,   0.96385542],\n",
       "       [252.        ,   0.96428571],\n",
       "       [255.        ,   0.96470588],\n",
       "       [258.        ,   0.96511628],\n",
       "       [261.        ,   0.96551724],\n",
       "       [264.        ,   0.96590909],\n",
       "       [267.        ,   0.96629213],\n",
       "       [270.        ,   0.96666667],\n",
       "       [273.        ,   0.96703297],\n",
       "       [276.        ,   0.9673913 ],\n",
       "       [279.        ,   0.96774194],\n",
       "       [282.        ,   0.96808511],\n",
       "       [285.        ,   0.96842105],\n",
       "       [288.        ,   0.96875   ],\n",
       "       [291.        ,   0.96907216],\n",
       "       [294.        ,   0.96938776],\n",
       "       [297.        ,   0.96969697],\n",
       "       [300.        ,   0.97      ],\n",
       "       [303.        ,   0.97029703],\n",
       "       [306.        ,   0.97058824]])"
      ]
     },
     "execution_count": 42,
     "metadata": {},
     "output_type": "execute_result"
    }
   ],
   "source": [
    "val"
   ]
  },
  {
   "cell_type": "markdown",
   "id": "c7d3c605",
   "metadata": {},
   "source": [
    "## Another experiment"
   ]
  },
  {
   "cell_type": "code",
   "execution_count": 11,
   "id": "fe2da8f9",
   "metadata": {},
   "outputs": [],
   "source": [
    "filter_func = Eccentricity(exponent = 2,metric= 'cosine')\n",
    "\n",
    "cover = OneDimensionalCover(n_intervals=60, overlap_frac=0.9,kind='balanced')\n",
    "\n",
    "\n",
    "clusterer = DBSCAN(eps = 0.01,metric='cosine',min_samples=3)\n",
    "\n",
    "n_jobs = 1\n",
    "\n",
    "# Initialise pipeline\n",
    "pipe = make_mapper_pipeline(\n",
    "    scaler = MinMaxScaler(),\n",
    "    filter_func=filter_func,\n",
    "    cover=cover,\n",
    "    clusterer=clusterer,\n",
    "    contract_nodes=True,\n",
    "    verbose=False,\n",
    "    n_jobs=n_jobs,\n",
    ")\n",
    "\n",
    "\n",
    "\n",
    "\n",
    "##############Checar \"balanced\" 64, 0.94"
   ]
  },
  {
   "cell_type": "code",
   "execution_count": 12,
   "id": "9f049b5c",
   "metadata": {
    "scrolled": false
   },
   "outputs": [
    {
     "data": {
      "application/vnd.jupyter.widget-view+json": {
       "model_id": "6d70e29ee0734c5b823af00c5aface5b",
       "version_major": 2,
       "version_minor": 0
      },
      "text/plain": [
       "VBox(children=(HBox(children=(VBox(children=(HTML(value='<b>Cover parameters</b>'), Text(value='balanced', con…"
      ]
     },
     "metadata": {},
     "output_type": "display_data"
    }
   ],
   "source": [
    "node_scale = 25\n",
    "fig = plot_interactive_mapper_graph(pipe, \n",
    "                                    data_sever, \n",
    "                                    layout_dim=2, \n",
    "                                    node_scale=node_scale,\n",
    "                                    node_color_statistic=np.mean,\n",
    "                                    color_data = data_sever),\n",
    "fig[0]"
   ]
  },
  {
   "cell_type": "code",
   "execution_count": 22,
   "id": "powered-campbell",
   "metadata": {},
   "outputs": [],
   "source": [
    "filter_func = Eccentricity(exponent = 2,metric= 'cosine')\n",
    "\n",
    "cover = OneDimensionalCover(n_intervals=60, overlap_frac=0.9,kind='balanced')\n",
    "\n",
    "\n",
    "clusterer = DBSCAN(eps = 0.01,metric='cosine',min_samples=3)\n",
    "\n",
    "n_jobs = 1\n",
    "\n",
    "# Initialise pipeline\n",
    "pipe = make_mapper_pipeline(\n",
    "    scaler = MinMaxScaler(),\n",
    "    filter_func=filter_func,\n",
    "    cover=cover,\n",
    "    clusterer=clusterer,\n",
    "    contract_nodes=True,\n",
    "    verbose=False,\n",
    "    n_jobs=n_jobs,\n",
    ")\n",
    "\n",
    "node_scale = 25\n",
    "fig = plot_static_mapper_graph(pipe, \n",
    "                                    data_sever, \n",
    "                                    layout_dim=2, \n",
    "                                    node_scale=node_scale,\n",
    "                                    node_color_statistic=np.mean,\n",
    "                                    color_data = data_sever[['IgG (S/CO)']],\n",
    "                                    plotly_params = {\"layout\" : {\"font_size\":14}})\n",
    "fig.write_image(\"images/sev_ig.pdf\")"
   ]
  },
  {
   "cell_type": "code",
   "execution_count": 23,
   "id": "nearby-health",
   "metadata": {},
   "outputs": [],
   "source": [
    "filter_func = Eccentricity(exponent = 2,metric= 'cosine')\n",
    "\n",
    "cover = OneDimensionalCover(n_intervals=60, overlap_frac=0.9,kind='balanced')\n",
    "\n",
    "\n",
    "clusterer = DBSCAN(eps = 0.01,metric='cosine',min_samples=3)\n",
    "\n",
    "n_jobs = 1\n",
    "\n",
    "# Initialise pipeline\n",
    "pipe = make_mapper_pipeline(\n",
    "    scaler = MinMaxScaler(),\n",
    "    filter_func=filter_func,\n",
    "    cover=cover,\n",
    "    clusterer=clusterer,\n",
    "    contract_nodes=True,\n",
    "    verbose=False,\n",
    "    n_jobs=n_jobs,\n",
    ")\n",
    "\n",
    "node_scale = 25\n",
    "fig = plot_static_mapper_graph(pipe, \n",
    "                                    data_sever, \n",
    "                                    layout_dim=2, \n",
    "                                    node_scale=node_scale,\n",
    "                                    node_color_statistic=np.mean,\n",
    "                                    color_data = data_sever[['IgM (S/CO)']],\n",
    "                                    plotly_params = {\"layout\" : {\"font_size\":14}})\n",
    "fig.write_image(\"images/sev_im.pdf\")"
   ]
  },
  {
   "cell_type": "code",
   "execution_count": 24,
   "id": "clear-cursor",
   "metadata": {},
   "outputs": [],
   "source": [
    "filter_func = Eccentricity(exponent = 2,metric= 'cosine')\n",
    "\n",
    "cover = OneDimensionalCover(n_intervals=60, overlap_frac=0.9,kind='balanced')\n",
    "\n",
    "\n",
    "clusterer = DBSCAN(eps = 0.01,metric='cosine',min_samples=3)\n",
    "\n",
    "n_jobs = 1\n",
    "\n",
    "# Initialise pipeline\n",
    "pipe = make_mapper_pipeline(\n",
    "    scaler = MinMaxScaler(),\n",
    "    filter_func=filter_func,\n",
    "    cover=cover,\n",
    "    clusterer=clusterer,\n",
    "    contract_nodes=True,\n",
    "    verbose=False,\n",
    "    n_jobs=n_jobs,\n",
    ")\n",
    "\n",
    "node_scale = 25\n",
    "fig = plot_static_mapper_graph(pipe, \n",
    "                                    data_sever, \n",
    "                                    layout_dim=2, \n",
    "                                    node_scale=node_scale,\n",
    "                                    node_color_statistic=np.mean,\n",
    "                                    color_data = data_sever[['Días despues de iniciados los síntomas']],\n",
    "                                    plotly_params = {\"layout\" : {\"font_size\":14}})\n",
    "fig.write_image(\"images/sev_d.pdf\")"
   ]
  },
  {
   "cell_type": "code",
   "execution_count": 45,
   "id": "91f55e72",
   "metadata": {},
   "outputs": [],
   "source": [
    "import matplotlib.pyplot as plt\n",
    "from matplotlib.backends.backend_pdf import PdfPages"
   ]
  },
  {
   "cell_type": "code",
   "execution_count": 46,
   "id": "starting-company",
   "metadata": {},
   "outputs": [
    {
     "data": {
      "image/png": "[encoded data removed]",
      "text/plain": [
       "<Figure size 432x288 with 1 Axes>"
      ]
     },
     "metadata": {
      "needs_background": "light"
     },
     "output_type": "display_data"
    }
   ],
   "source": [
    "meta_table = plt.table(cellText=[['Filtro', 'Excentricidad(exp = 2, métrica = coseno)'], \n",
    "     ['Algoritmo de Clustering', 'DBSCAN(eps = 0.01, métrica = coseno, min_samples = 3)'],\n",
    "     ['Tipo de cubierta', 'Balanceada'],\n",
    "     ['Número de intervalos', '60'],\n",
    "     ['Porcentaje de traslape', '90%'],\n",
    "     ['Contraer nodos', 'Sí']],\n",
    "         cellLoc = 'center',\n",
    "         loc = 'center',\n",
    "         colLoc = 'center',\n",
    "         rowLoc = 'center',\n",
    "         #cellColours = [['#8DD4CD','w'],['#8DD4CD','w'],['#8DD4CD','w'],['#8DD4CD','w'],['#8DD4CD','w'],['#8DD4CD','w']],\n",
    "         edges = 'closed',\n",
    "         #colWidths = [0.05,0.20,0.10,0.10,0.10]\n",
    "         )\n",
    "plt.axis('off')\n",
    "meta_table.auto_set_font_size(False)\n",
    "meta_table.set_fontsize(15)\n",
    "meta_table.scale(3,3)\n",
    "meta_fig = meta_table.figure\n",
    "\n",
    "pp = PdfPages(\"tabgen3.pdf\")\n",
    "pp.savefig(meta_fig, bbox_inches='tight')\n",
    "pp.close()"
   ]
  },
  {
   "cell_type": "code",
   "execution_count": null,
   "id": "international-guide",
   "metadata": {},
   "outputs": [],
   "source": []
  }
 ],
 "metadata": {
  "kernelspec": {
   "display_name": "Python 3",
   "language": "python",
   "name": "python3"
  },
  "language_info": {
   "codemirror_mode": {
    "name": "ipython",
    "version": 3
   },
   "file_extension": ".py",
   "mimetype": "text/x-python",
   "name": "python",
   "nbconvert_exporter": "python",
   "pygments_lexer": "ipython3",
   "version": "3.7.10"
  }
 },
 "nbformat": 4,
 "nbformat_minor": 5
}
