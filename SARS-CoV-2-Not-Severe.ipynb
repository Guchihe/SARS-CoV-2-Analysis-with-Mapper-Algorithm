{
 "cells": [
  {
   "cell_type": "code",
   "execution_count": 1,
   "id": "funky-angola",
   "metadata": {},
   "outputs": [],
   "source": [
    "import numpy as np\n",
    "import pandas as pd\n",
    "from gtda.mapper import (\n",
    "    CubicalCover,\n",
    "    OneDimensionalCover,\n",
    "    make_mapper_pipeline,\n",
    "    Projection,\n",
    "    plot_static_mapper_graph,\n",
    "    plot_interactive_mapper_graph\n",
    ")\n",
    "from gtda.mapper.cluster import ParallelClustering\n",
    "from gtda.mapper import Eccentricity,Entropy\n",
    "\n",
    "from sklearn.preprocessing import MinMaxScaler\n",
    "from sklearn.cluster import DBSCAN, KMeans,MiniBatchKMeans\n",
    "from sklearn.decomposition import PCA\n",
    "from sklearn.cluster import AgglomerativeClustering, OPTICS"
   ]
  },
  {
   "cell_type": "code",
   "execution_count": 2,
   "id": "complimentary-chassis",
   "metadata": {},
   "outputs": [],
   "source": [
    "import openpyxl\n",
    "xlsx = pd.ExcelFile('41591_2020_897_MOESM3_ESM.xlsx')\n",
    "df = pd.read_excel(xlsx, '(B) Figure 1B')"
   ]
  },
  {
   "cell_type": "code",
   "execution_count": 3,
   "id": "electronic-software",
   "metadata": {},
   "outputs": [],
   "source": [
    "df = df.rename({'Patient ID': 'ID', 'Days after symptoms onset': 'Días despues de iniciados los síntomas','IgG S/CO': 'IgG (S/CO)', 'IgM S/CO': 'IgM (S/CO)','Severity': 'Severidad'}, axis=1)"
   ]
  },
  {
   "cell_type": "code",
   "execution_count": 4,
   "id": "convenient-institution",
   "metadata": {},
   "outputs": [],
   "source": [
    "df1 = df[['ID','Días despues de iniciados los síntomas', 'IgG (S/CO)', 'IgM (S/CO)', 'Severidad']]"
   ]
  },
  {
   "cell_type": "code",
   "execution_count": 5,
   "id": "working-sending",
   "metadata": {},
   "outputs": [],
   "source": [
    "is_sever = df1['Severidad'] == 1\n",
    "isnt_sever = df1['Severidad'] == 0\n",
    "data_sever = df1[is_sever].drop(['Severidad','ID'],axis=1)\n",
    "data_not_sever = df1[isnt_sever].drop(['Severidad','ID'],axis=1)"
   ]
  },
  {
   "cell_type": "code",
   "execution_count": 6,
   "id": "violent-richardson",
   "metadata": {},
   "outputs": [
    {
     "data": {
      "text/plain": [
       "0      False\n",
       "1       True\n",
       "2       True\n",
       "3      False\n",
       "4       True\n",
       "       ...  \n",
       "257    False\n",
       "258    False\n",
       "259    False\n",
       "260    False\n",
       "261    False\n",
       "Name: Severidad, Length: 262, dtype: bool"
      ]
     },
     "execution_count": 6,
     "metadata": {},
     "output_type": "execute_result"
    }
   ],
   "source": [
    "is_sever"
   ]
  },
  {
   "cell_type": "code",
   "execution_count": 7,
   "id": "advisory-bookmark",
   "metadata": {},
   "outputs": [
    {
     "data": {
      "text/html": [
       "<div>\n",
       "<style scoped>\n",
       "    .dataframe tbody tr th:only-of-type {\n",
       "        vertical-align: middle;\n",
       "    }\n",
       "\n",
       "    .dataframe tbody tr th {\n",
       "        vertical-align: top;\n",
       "    }\n",
       "\n",
       "    .dataframe thead th {\n",
       "        text-align: right;\n",
       "    }\n",
       "</style>\n",
       "<table border=\"1\" class=\"dataframe\">\n",
       "  <thead>\n",
       "    <tr style=\"text-align: right;\">\n",
       "      <th></th>\n",
       "      <th>Días despues de iniciados los síntomas</th>\n",
       "      <th>IgG (S/CO)</th>\n",
       "      <th>IgM (S/CO)</th>\n",
       "    </tr>\n",
       "  </thead>\n",
       "  <tbody>\n",
       "    <tr>\n",
       "      <th>0</th>\n",
       "      <td>12</td>\n",
       "      <td>65.484</td>\n",
       "      <td>1.641</td>\n",
       "    </tr>\n",
       "    <tr>\n",
       "      <th>3</th>\n",
       "      <td>10</td>\n",
       "      <td>4.151</td>\n",
       "      <td>10.182</td>\n",
       "    </tr>\n",
       "    <tr>\n",
       "      <th>5</th>\n",
       "      <td>14</td>\n",
       "      <td>3.081</td>\n",
       "      <td>0.905</td>\n",
       "    </tr>\n",
       "    <tr>\n",
       "      <th>6</th>\n",
       "      <td>10</td>\n",
       "      <td>41.416</td>\n",
       "      <td>2.024</td>\n",
       "    </tr>\n",
       "    <tr>\n",
       "      <th>7</th>\n",
       "      <td>16</td>\n",
       "      <td>0.819</td>\n",
       "      <td>2.104</td>\n",
       "    </tr>\n",
       "    <tr>\n",
       "      <th>...</th>\n",
       "      <td>...</td>\n",
       "      <td>...</td>\n",
       "      <td>...</td>\n",
       "    </tr>\n",
       "    <tr>\n",
       "      <th>257</th>\n",
       "      <td>11</td>\n",
       "      <td>3.331</td>\n",
       "      <td>4.997</td>\n",
       "    </tr>\n",
       "    <tr>\n",
       "      <th>258</th>\n",
       "      <td>8</td>\n",
       "      <td>2.463</td>\n",
       "      <td>0.266</td>\n",
       "    </tr>\n",
       "    <tr>\n",
       "      <th>259</th>\n",
       "      <td>15</td>\n",
       "      <td>4.540</td>\n",
       "      <td>0.711</td>\n",
       "    </tr>\n",
       "    <tr>\n",
       "      <th>260</th>\n",
       "      <td>10</td>\n",
       "      <td>0.490</td>\n",
       "      <td>0.669</td>\n",
       "    </tr>\n",
       "    <tr>\n",
       "      <th>261</th>\n",
       "      <td>3</td>\n",
       "      <td>37.924</td>\n",
       "      <td>0.307</td>\n",
       "    </tr>\n",
       "  </tbody>\n",
       "</table>\n",
       "<p>223 rows × 3 columns</p>\n",
       "</div>"
      ],
      "text/plain": [
       "     Días despues de iniciados los síntomas  IgG (S/CO)  IgM (S/CO)\n",
       "0                                        12      65.484       1.641\n",
       "3                                        10       4.151      10.182\n",
       "5                                        14       3.081       0.905\n",
       "6                                        10      41.416       2.024\n",
       "7                                        16       0.819       2.104\n",
       "..                                      ...         ...         ...\n",
       "257                                      11       3.331       4.997\n",
       "258                                       8       2.463       0.266\n",
       "259                                      15       4.540       0.711\n",
       "260                                      10       0.490       0.669\n",
       "261                                       3      37.924       0.307\n",
       "\n",
       "[223 rows x 3 columns]"
      ]
     },
     "execution_count": 7,
     "metadata": {},
     "output_type": "execute_result"
    }
   ],
   "source": [
    "data_not_sever"
   ]
  },
  {
   "cell_type": "markdown",
   "id": "judicial-original",
   "metadata": {},
   "source": [
    "# Not Severe"
   ]
  },
  {
   "cell_type": "markdown",
   "id": "sunrise-jewel",
   "metadata": {},
   "source": [
    "## Filter: PCA*"
   ]
  },
  {
   "cell_type": "code",
   "execution_count": 11,
   "id": "endangered-advocate",
   "metadata": {},
   "outputs": [],
   "source": [
    "filter_func =PCA(n_components=1)\n",
    "cover = CubicalCover(n_intervals=46, overlap_frac=0.75) #50,0.75; 100,0.9\n",
    "\n",
    "clusterer = DBSCAN(eps = 0.01,metric='cosine')\n",
    "#clusterer = AgglomerativeClustering(n_clusters=3,linkage='single')\n",
    "\n",
    "\n",
    "n_jobs = 1\n",
    "\n",
    "# Initialise pipeline\n",
    "pipe = make_mapper_pipeline(\n",
    "    scaler = MinMaxScaler(),\n",
    "    filter_func=filter_func,\n",
    "    cover=cover,\n",
    "    clusterer=clusterer,\n",
    "    verbose=False,\n",
    "    n_jobs=n_jobs,\n",
    ")"
   ]
  },
  {
   "cell_type": "code",
   "execution_count": 12,
   "id": "elegant-annex",
   "metadata": {
    "scrolled": false
   },
   "outputs": [
    {
     "data": {
      "application/vnd.jupyter.widget-view+json": {
       "model_id": "7856a8d1141e4fad80b025cffec8551b",
       "version_major": 2,
       "version_minor": 0
      },
      "text/plain": [
       "VBox(children=(HBox(children=(VBox(children=(HTML(value='<b>Cover parameters</b>'), Text(value='uniform', cont…"
      ]
     },
     "metadata": {},
     "output_type": "display_data"
    }
   ],
   "source": [
    "node_scale = 20\n",
    "fig = plot_interactive_mapper_graph(pipe, data_not_sever, \n",
    "                                    layout_dim=2, \n",
    "                                    node_scale=node_scale,\n",
    "                                    node_color_statistic=None,\n",
    "                                    color_data = data_not_sever\n",
    "                                    ),\n",
    "fig[0]"
   ]
  },
  {
   "cell_type": "markdown",
   "id": "technological-hygiene",
   "metadata": {},
   "source": [
    "## Filter: Eccentricity**"
   ]
  },
  {
   "cell_type": "code",
   "execution_count": 13,
   "id": "indoor-attribute",
   "metadata": {},
   "outputs": [],
   "source": [
    "filter_func = Eccentricity(exponent = 2)\n",
    "cover = CubicalCover(n_intervals=60, overlap_frac=0.7)\n",
    "#70,0.9\n",
    "#60, 0.7\n",
    "\n",
    "clusterer = DBSCAN(eps = 0.001,metric='cosine')\n",
    "#clusterer = AgglomerativeClustering(n_clusters=3,linkage='single')\n",
    "\n",
    "\n",
    "n_jobs = 1\n",
    "\n",
    "# Initialise pipeline\n",
    "pipe = make_mapper_pipeline(\n",
    "    scaler = MinMaxScaler(),\n",
    "    filter_func=filter_func,\n",
    "    cover=cover,\n",
    "    contract_nodes=True,\n",
    "    clusterer=clusterer,\n",
    "    verbose=False,\n",
    "    n_jobs=n_jobs,\n",
    ")"
   ]
  },
  {
   "cell_type": "code",
   "execution_count": 14,
   "id": "unexpected-serial",
   "metadata": {
    "scrolled": false
   },
   "outputs": [
    {
     "data": {
      "application/vnd.jupyter.widget-view+json": {
       "model_id": "0c0c1739d349465982ce8cbd50fc4687",
       "version_major": 2,
       "version_minor": 0
      },
      "text/plain": [
       "VBox(children=(HBox(children=(VBox(children=(HTML(value='<b>Cover parameters</b>'), Text(value='uniform', cont…"
      ]
     },
     "metadata": {},
     "output_type": "display_data"
    }
   ],
   "source": [
    "node_scale = 30\n",
    "fig = plot_interactive_mapper_graph(pipe, \n",
    "                                    data_not_sever, \n",
    "                                    layout_dim=3, \n",
    "                                    node_scale=node_scale,\n",
    "                                    node_color_statistic=np.mean,\n",
    "                                    color_data = data_not_sever),\n",
    "fig[0]"
   ]
  },
  {
   "cell_type": "markdown",
   "id": "f9afdeab",
   "metadata": {},
   "source": [
    "# With almost the same parameters as in severe patients"
   ]
  },
  {
   "cell_type": "code",
   "execution_count": 17,
   "id": "brilliant-element",
   "metadata": {},
   "outputs": [],
   "source": [
    "filter_func = Eccentricity(exponent = 2,metric= 'cosine')\n",
    "cover = CubicalCover(n_intervals=60, overlap_frac=0.85,kind='balanced')\n",
    "\n",
    "clusterer = DBSCAN(eps = 0.01,metric='cosine')\n",
    "#clusterer = AgglomerativeClustering(n_clusters=3,linkage='single')\n",
    "\n",
    "\n",
    "n_jobs = 1\n",
    "\n",
    "# Initialise pipeline\n",
    "pipe = make_mapper_pipeline(\n",
    "    scaler = MinMaxScaler(),\n",
    "    filter_func=filter_func,\n",
    "    cover=cover,\n",
    "    contract_nodes=True,\n",
    "    clusterer=clusterer,\n",
    "    verbose=False,\n",
    "    n_jobs=n_jobs,\n",
    ")"
   ]
  },
  {
   "cell_type": "code",
   "execution_count": 18,
   "id": "false-shanghai",
   "metadata": {
    "scrolled": false
   },
   "outputs": [
    {
     "data": {
      "application/vnd.jupyter.widget-view+json": {
       "model_id": "f9360de25a754e3d836a018bdab94a7d",
       "version_major": 2,
       "version_minor": 0
      },
      "text/plain": [
       "VBox(children=(HBox(children=(VBox(children=(HTML(value='<b>Cover parameters</b>'), Text(value='balanced', con…"
      ]
     },
     "metadata": {},
     "output_type": "display_data"
    }
   ],
   "source": [
    "fig = plot_interactive_mapper_graph(pipe, \n",
    "                                    data_not_sever, \n",
    "                                    layout_dim=2, \n",
    "                                    node_scale=25,\n",
    "                                    node_color_statistic=np.mean,\n",
    "                                    color_data = data_not_sever),\n",
    "fig[0]"
   ]
  },
  {
   "cell_type": "code",
   "execution_count": 19,
   "id": "north-excitement",
   "metadata": {},
   "outputs": [],
   "source": [
    "filter_func = Eccentricity(exponent = 2,metric= 'cosine')\n",
    "cover = CubicalCover(n_intervals=60, overlap_frac=0.85,kind='balanced')\n",
    "\n",
    "clusterer = DBSCAN(eps = 0.01,metric='cosine')\n",
    "#clusterer = AgglomerativeClustering(n_clusters=3,linkage='single')\n",
    "\n",
    "\n",
    "n_jobs = 1\n",
    "\n",
    "# Initialise pipeline\n",
    "pipe = make_mapper_pipeline(\n",
    "    scaler = MinMaxScaler(),\n",
    "    filter_func=filter_func,\n",
    "    cover=cover,\n",
    "    contract_nodes=True,\n",
    "    clusterer=clusterer,\n",
    "    verbose=False,\n",
    "    n_jobs=n_jobs,\n",
    ")\n",
    "fig = plot_static_mapper_graph(pipe, \n",
    "                                    data_not_sever, \n",
    "                                    layout_dim=2, \n",
    "                                    node_scale=25,\n",
    "                                    node_color_statistic=np.mean,\n",
    "                                    color_data = data_not_sever[['IgG (S/CO)']],\n",
    "                                    plotly_params = {\"layout\" : {\"font_size\":14}})\n",
    "fig.write_image(\"images/non_sev_ig.pdf\")"
   ]
  },
  {
   "cell_type": "code",
   "execution_count": 20,
   "id": "expressed-leonard",
   "metadata": {},
   "outputs": [],
   "source": [
    "filter_func = Eccentricity(exponent = 2,metric= 'cosine')\n",
    "cover = CubicalCover(n_intervals=60, overlap_frac=0.85,kind='balanced')\n",
    "\n",
    "clusterer = DBSCAN(eps = 0.01,metric='cosine')\n",
    "#clusterer = AgglomerativeClustering(n_clusters=3,linkage='single')\n",
    "\n",
    "\n",
    "n_jobs = 1\n",
    "\n",
    "# Initialise pipeline\n",
    "pipe = make_mapper_pipeline(\n",
    "    scaler = MinMaxScaler(),\n",
    "    filter_func=filter_func,\n",
    "    cover=cover,\n",
    "    contract_nodes=True,\n",
    "    clusterer=clusterer,\n",
    "    verbose=False,\n",
    "    n_jobs=n_jobs,\n",
    ")\n",
    "fig = plot_static_mapper_graph(pipe, \n",
    "                                    data_not_sever, \n",
    "                                    layout_dim=2, \n",
    "                                    node_scale=25,\n",
    "                                    node_color_statistic=np.mean,\n",
    "                                    color_data = data_not_sever[['IgM (S/CO)']],\n",
    "                                    plotly_params = {\"layout\" : {\"font_size\":14}})\n",
    "fig.write_image(\"images/non_sev_im.pdf\")"
   ]
  },
  {
   "cell_type": "code",
   "execution_count": 21,
   "id": "welsh-asthma",
   "metadata": {},
   "outputs": [],
   "source": [
    "filter_func = Eccentricity(exponent = 2,metric= 'cosine')\n",
    "cover = CubicalCover(n_intervals=60, overlap_frac=0.85,kind='balanced')\n",
    "\n",
    "clusterer = DBSCAN(eps = 0.01,metric='cosine')\n",
    "#clusterer = AgglomerativeClustering(n_clusters=3,linkage='single')\n",
    "\n",
    "\n",
    "n_jobs = 1\n",
    "\n",
    "# Initialise pipeline\n",
    "pipe = make_mapper_pipeline(\n",
    "    scaler = MinMaxScaler(),\n",
    "    filter_func=filter_func,\n",
    "    cover=cover,\n",
    "    contract_nodes=True,\n",
    "    clusterer=clusterer,\n",
    "    verbose=False,\n",
    "    n_jobs=n_jobs,\n",
    ")\n",
    "fig = plot_static_mapper_graph(pipe, \n",
    "                                    data_not_sever, \n",
    "                                    layout_dim=2, \n",
    "                                    node_scale=25,\n",
    "                                    node_color_statistic=np.mean,\n",
    "                                    color_data = data_not_sever[['Días despues de iniciados los síntomas']],\n",
    "                                    plotly_params = {\"layout\" : {\"font_size\":14}})\n",
    "fig.write_image(\"images/non_sev_d.pdf\")"
   ]
  },
  {
   "cell_type": "code",
   "execution_count": 10,
   "id": "adjacent-peter",
   "metadata": {},
   "outputs": [],
   "source": [
    "import matplotlib.pyplot as plt\n",
    "from matplotlib.backends.backend_pdf import PdfPages"
   ]
  },
  {
   "cell_type": "code",
   "execution_count": 17,
   "id": "related-azerbaijan",
   "metadata": {},
   "outputs": [
    {
     "data": {
      "image/png": "[encoded data removed]",
      "text/plain": [
       "<Figure size 432x288 with 1 Axes>"
      ]
     },
     "metadata": {
      "needs_background": "light"
     },
     "output_type": "display_data"
    }
   ],
   "source": [
    "meta_table = plt.table(cellText=[['Filtro', 'Excentricidad(exp = 2, métrica = coseno)'], \n",
    "     ['Algoritmo de Clustering', 'DBSCAN(eps = 0.01, métrica = coseno)'],\n",
    "     ['Tipo de cubierta', 'Balanceada'],\n",
    "     ['Número de intervalos', '60'],\n",
    "     ['Porcentaje de traslape', '85%'],\n",
    "     ['Contraer nodos', 'Sí']],\n",
    "         cellLoc = 'center',\n",
    "         loc = 'center',\n",
    "         colLoc = 'center',\n",
    "         rowLoc = 'center',\n",
    "         #cellColours = [['#F6EEDB','w'],['#F6EEDB','w'],['#F6EEDB','w'],['#F6EEDB','w'],['#F6EEDB','w'],['#F6EEDB','w']],\n",
    "         edges = 'closed',\n",
    "         #colWidths = [0.05,0.20,0.10,0.10,0.10]\n",
    "         )\n",
    "plt.axis('off')\n",
    "meta_table.auto_set_font_size(False)\n",
    "meta_table.set_fontsize(15)\n",
    "meta_table.scale(2,3)\n",
    "meta_fig = meta_table.figure\n",
    "\n",
    "pp = PdfPages(\"tabgen4.pdf\")\n",
    "pp.savefig(meta_fig, bbox_inches='tight')\n",
    "pp.close()"
   ]
  },
  {
   "cell_type": "code",
   "execution_count": null,
   "id": "hearing-austin",
   "metadata": {},
   "outputs": [],
   "source": []
  }
 ],
 "metadata": {
  "kernelspec": {
   "display_name": "Python 3",
   "language": "python",
   "name": "python3"
  },
  "language_info": {
   "codemirror_mode": {
    "name": "ipython",
    "version": 3
   },
   "file_extension": ".py",
   "mimetype": "text/x-python",
   "name": "python",
   "nbconvert_exporter": "python",
   "pygments_lexer": "ipython3",
   "version": "3.7.10"
  }
 },
 "nbformat": 4,
 "nbformat_minor": 5
}
